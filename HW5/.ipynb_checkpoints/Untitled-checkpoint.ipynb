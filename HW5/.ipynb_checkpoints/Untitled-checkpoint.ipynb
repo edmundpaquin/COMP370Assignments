{
 "cells": [
  {
   "cell_type": "code",
   "execution_count": null,
   "id": "3e5b0d35-82e3-4b44-9c22-932ca2cd98d9",
   "metadata": {},
   "outputs": [],
   "source": [
    "import pandas as pd\n",
    "from collections import defaultdict\n",
    "import matplotlib.pyplot as plt\n",
    "\n",
    "# Read the first 10,000 rows of the CSV file\n",
    "df = pd.read_csv('nyc_311_data_trimmed.csv', nrows=100000)\n",
    "\n",
    "# Convert created_date to datetime to extract the month and year\n",
    "df['created_date'] = pd.to_datetime(df['created_date'], errors='coerce')\n",
    "\n",
    "# Filter rows where complaint_type is noise-related (assuming it contains the word 'Noise')\n",
    "noise_complaints = df[df['complaint_type'].str.contains('Noise', case=False, na=False)]\n",
    "\n",
    "# Group the data by month-year and count noise-related complaints\n",
    "complaints_by_month = defaultdict(int)\n",
    "\n",
    "# Iterate through noise complaints and populate the dictionary\n",
    "for index, row in noise_complaints.iterrows():\n",
    "    if pd.notnull(row['created_date']):\n",
    "        month_year = row['created_date'].strftime('%Y-%m')  # Format as 'YYYY-MM'\n",
    "        complaints_by_month[month_year] += 1\n",
    "\n",
    "# Convert defaultdict to a regular dictionary\n",
    "complaints_by_month = dict(complaints_by_month)\n",
    "\n",
    "# Sort the dictionary by month for correct plotting\n",
    "sorted_complaints_by_month = dict(sorted(complaints_by_month.items()))\n",
    "\n",
    "# Create a plot\n",
    "plt.figure(figsize=(10, 6))\n",
    "plt.plot(list(sorted_complaints_by_month.keys()), list(sorted_complaints_by_month.values()), marker='o')\n",
    "\n",
    "# Rotate x-axis labels for readability\n",
    "plt.xticks(rotation=90)\n",
    "\n",
    "# Add labels and title\n",
    "plt.xlabel('Month (YYYY-MM)')\n",
    "plt.ylabel('Number of Noise Complaints')\n",
    "plt.title('Number of Noise Complaints per Month')\n",
    "\n",
    "# Save the plot as a PNG file\n",
    "plt.tight_layout()\n",
    "plt.savefig('task1_plot.png', dpi=300)  # Save with high resolution (300 dpi)\n",
    "\n",
    "# Show the plot\n",
    "plt.show()\n"
   ]
  }
 ],
 "metadata": {
  "kernelspec": {
   "display_name": "Python 3 (ipykernel)",
   "language": "python",
   "name": "python3"
  },
  "language_info": {
   "codemirror_mode": {
    "name": "ipython",
    "version": 3
   },
   "file_extension": ".py",
   "mimetype": "text/x-python",
   "name": "python",
   "nbconvert_exporter": "python",
   "pygments_lexer": "ipython3",
   "version": "3.10.12"
  }
 },
 "nbformat": 4,
 "nbformat_minor": 5
}
